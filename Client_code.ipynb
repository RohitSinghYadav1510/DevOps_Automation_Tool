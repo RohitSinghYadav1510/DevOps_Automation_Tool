{
 "cells": [
  {
   "cell_type": "code",
   "execution_count": null,
   "metadata": {},
   "outputs": [],
   "source": [
    "import socket"
   ]
  },
  {
   "cell_type": "code",
   "execution_count": null,
   "metadata": {},
   "outputs": [],
   "source": [
    "s= socket.socket()"
   ]
  },
  {
   "cell_type": "code",
   "execution_count": null,
   "metadata": {},
   "outputs": [],
   "source": [
    "serverip=\"192.168.43.18\"\n",
    "serverport=3333\n",
    "s.connect((serverip,serverport))"
   ]
  },
  {
   "cell_type": "code",
   "execution_count": null,
   "metadata": {},
   "outputs": [],
   "source": [
    "while True:\n",
    "    print(\"\"\"\n",
    "        1- can you run the date command on localhost\n",
    "        2- can you run the calendar command on localhost\n",
    "        3- can you run the Cheese command on localhost\n",
    "        4- can you capture the photo on localhost\n",
    "        5- can you do the video live processing\n",
    "        \"\"\")\n",
    "    \n",
    "    text=input(\"Enter which you want\")\n",
    "    cmd=text.encode()\n",
    "    s.send(cmd)\n",
    "    output=s.recv(100).decode()\n",
    "    print(output)"
   ]
  },
  {
   "cell_type": "code",
   "execution_count": null,
   "metadata": {},
   "outputs": [],
   "source": [
    "s.close()"
   ]
  },
  {
   "cell_type": "code",
   "execution_count": null,
   "metadata": {},
   "outputs": [],
   "source": [
    " #choice=input(\"\"\"\n",
    "                to date\n",
    "                to cal\n",
    "                to cheese\n",
    "                \"\"\")"
   ]
  }
 ],
 "metadata": {
  "kernelspec": {
   "display_name": "Python 3",
   "language": "python",
   "name": "python3"
  },
  "language_info": {
   "codemirror_mode": {
    "name": "ipython",
    "version": 3
   },
   "file_extension": ".py",
   "mimetype": "text/x-python",
   "name": "python",
   "nbconvert_exporter": "python",
   "pygments_lexer": "ipython3",
   "version": "3.6.4"
  }
 },
 "nbformat": 4,
 "nbformat_minor": 2
}
